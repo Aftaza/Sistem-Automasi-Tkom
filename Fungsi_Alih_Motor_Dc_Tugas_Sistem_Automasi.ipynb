{
  "nbformat": 4,
  "nbformat_minor": 0,
  "metadata": {
    "colab": {
      "provenance": [],
      "authorship_tag": "ABX9TyOg51OHb/ortcXIWGPZ8Jif",
      "include_colab_link": true
    },
    "kernelspec": {
      "name": "python3",
      "display_name": "Python 3"
    },
    "language_info": {
      "name": "python"
    }
  },
  "cells": [
    {
      "cell_type": "markdown",
      "metadata": {
        "id": "view-in-github",
        "colab_type": "text"
      },
      "source": [
        "<a href=\"https://colab.research.google.com/github/Aftaza/Sistem-Automasi-Tkom/blob/master/Fungsi_Alih_Motor_Dc_Tugas_Sistem_Automasi.ipynb\" target=\"_parent\"><img src=\"https://colab.research.google.com/assets/colab-badge.svg\" alt=\"Open In Colab\"/></a>"
      ]
    },
    {
      "cell_type": "markdown",
      "source": [
        "# Tugas Pembuatan Kode Fungsi Alih Motor DC\n",
        "## Sistem Automasi\n",
        "> M Alfian Taftazani  \n",
        "> 225150300111007"
      ],
      "metadata": {
        "id": "ZkMpEoXHxoQJ"
      }
    },
    {
      "cell_type": "markdown",
      "source": [
        "### Inisiasi"
      ],
      "metadata": {
        "id": "piPFldciyezP"
      }
    },
    {
      "cell_type": "code",
      "execution_count": 1,
      "metadata": {
        "id": "J-qW22HaxnJ-"
      },
      "outputs": [],
      "source": [
        "import sympy as sp\n",
        "from sympy import symbols, Eq, solve, laplace_transform, inverse_laplace_transform\n",
        "\n",
        "# Definisikan simbol-simbol\n",
        "t, s = symbols('t s')  # waktu dan variabel Laplace\n",
        "V, I, omega = symbols('V I omega', real=True)  # Tegangan, Arus, Kecepatan sudut\n",
        "R, L, J, B, K_t, K_e = symbols('R L J B K_t K_e', positive=True)  # Parameter motor\n",
        "theta = sp.Function('theta')(t)  # Posisi sudut sebagai fungsi waktu\n",
        "i = sp.Function('i')(t)  # Arus sebagai fungsi waktu\n",
        "v = sp.Function('v')(t)  # Tegangan sebagai fungsi waktu"
      ]
    },
    {
      "cell_type": "markdown",
      "source": [
        "### 1. Model Matematika Motor DC (Persamaan Listrik dan Mekanik)\n",
        "- Listrik: $V = R ⋅ I + L ⋅ \\frac{di}{dt} + K_e ⋅ ω$\n",
        "- Mekanik: $T = J ⋅ \\frac{dω}{dt} + B ⋅ ω$, dengan $T = K_t ⋅ I$  \n",
        "$V=$ Tegangan  \n",
        "$I=$ Arus  \n",
        "$ω=$ Kecepatan Sudut  \n",
        "$R=$ Resistensi   \n",
        "$L=$ Induktansi  \n",
        "$J=$ Inersia  \n",
        "$B=$ Viskositas  \n",
        "$K_t=$ Konstanta torsi  \n",
        "$K_e=$ Konstanta EMF"
      ],
      "metadata": {
        "id": "isg1ZDf7yiqL"
      }
    },
    {
      "cell_type": "code",
      "source": [
        "# Persamaan Listrik: V = R*I + L*di/dt + K_e*omega\n",
        "omega_expr = sp.diff(theta, t)  # omega = d(theta)/dt\n",
        "eq_listrik = Eq(V, R*i + L*sp.diff(i, t) + K_e*omega_expr)\n",
        "\n",
        "# Persamaan Mekanik: T = J*d(omega)/dt + B*omega, dengan T = K_t*I\n",
        "T = K_t*i  # Torsi\n",
        "eq_mekanik = Eq(T, J*sp.diff(omega_expr, t) + B*omega_expr)\n",
        "\n",
        "print(\"1. Persamaan Model Motor DC:\")\n",
        "print(\"Persamaan Listrik:\")\n",
        "sp.pprint(eq_listrik)\n",
        "print(\"\\nPersamaan Mekanik:\")\n",
        "sp.pprint(eq_mekanik)"
      ],
      "metadata": {
        "colab": {
          "base_uri": "https://localhost:8080/"
        },
        "id": "fYXYxBl5yqN0",
        "outputId": "edc41c81-8d84-460a-8d53-1a04be280d4b"
      },
      "execution_count": 2,
      "outputs": [
        {
          "output_type": "stream",
          "name": "stdout",
          "text": [
            "1. Persamaan Model Motor DC:\n",
            "Persamaan Listrik:\n",
            "       d            d                \n",
            "V = Kₑ⋅──(θ(t)) + L⋅──(i(t)) + R⋅i(t)\n",
            "       dt           dt               \n",
            "\n",
            "Persamaan Mekanik:\n",
            "                          2       \n",
            "            d            d        \n",
            "Kₜ⋅i(t) = B⋅──(θ(t)) + J⋅───(θ(t))\n",
            "            dt             2      \n",
            "                         dt       \n"
          ]
        }
      ]
    },
    {
      "cell_type": "markdown",
      "source": [
        "### 2. Transformasi Laplace pada Motor DC\n",
        "- Persamaan diubah ke domain $S$ dengan asumsi kondisi awal nol.\n",
        "- $I(s)$, $Ω(s)$, dan $V(s)$ adalah transformasi Laplace dari $i(t)$, $ω(t)$, dan $v(t)$"
      ],
      "metadata": {
        "id": "L02d-CfTyvv6"
      }
    },
    {
      "cell_type": "code",
      "source": [
        "# Asumsi kondisi awal nol: i(0) = 0, theta(0) = 0, d(theta)/dt(0) = 0\n",
        "I_s = symbols('I_s')  # Transformasi Laplace dari i(t)\n",
        "Omega_s = symbols('Omega_s')  # Transformasi Laplace dari omega(t)\n",
        "V_s = symbols('V_s')  # Transformasi Laplace dari v(t)\n",
        "\n",
        "# Transformasi Laplace persamaan listrik\n",
        "laplace_listrik = Eq(V_s, R*I_s + L*s*I_s + K_e*Omega_s)\n",
        "print(\"\\n2. Transformasi Laplace:\")\n",
        "print(\"Persamaan Listrik dalam domain s:\")\n",
        "sp.pprint(laplace_listrik)\n",
        "\n",
        "# Transformasi Laplace persamaan mekanik\n",
        "laplace_mekanik = Eq(K_t*I_s, J*s*Omega_s + B*Omega_s)\n",
        "print(\"Persamaan Mekanik dalam domain s:\")\n",
        "sp.pprint(laplace_mekanik)"
      ],
      "metadata": {
        "colab": {
          "base_uri": "https://localhost:8080/"
        },
        "id": "SHSGBqyDy2IA",
        "outputId": "44aaedf2-47fa-4e47-f4fb-4532eda1c530"
      },
      "execution_count": 4,
      "outputs": [
        {
          "output_type": "stream",
          "name": "stdout",
          "text": [
            "\n",
            "2. Transformasi Laplace:\n",
            "Persamaan Listrik dalam domain s:\n",
            "Vₛ = Iₛ⋅L⋅s + Iₛ⋅R + Kₑ⋅Ωₛ\n",
            "Persamaan Mekanik dalam domain s:\n",
            "Iₛ⋅Kₜ = B⋅Ωₛ + J⋅Ωₛ⋅s\n"
          ]
        }
      ]
    },
    {
      "cell_type": "markdown",
      "source": [
        "### 3. Fungsi Alih Hubungan antara  kecepatan sudut ($\\omega$) terhadap tegangan (V)\n",
        "- Menghitung $\\frac{Ω(s)}{V(s)}$ dengan menyelesaikan persamaan Laplace secara simbolik.\n",
        "- Hasil disederhanakan menggunakan ***simplify***"
      ],
      "metadata": {
        "id": "HGTFPuKly5vU"
      }
    },
    {
      "cell_type": "code",
      "source": [
        "# Substitusi I(s) dari persamaan mekanik ke persamaan listrik\n",
        "I_s_expr = solve(laplace_mekanik, I_s)[0]  # Ekspresi I(s)\n",
        "laplace_listrik_sub = laplace_listrik.subs(I_s, I_s_expr)\n",
        "\n",
        "# Selesaikan untuk Omega(s)\n",
        "sol_omega = solve(laplace_listrik_sub, Omega_s)[0]\n",
        "transfer_function = sp.simplify(sol_omega / V_s)\n",
        "\n",
        "print(\"\\n3. Fungsi Alih Omega(s)/V(s):\")\n",
        "sp.pprint(transfer_function)\n",
        "\n",
        "# Opsional: Tampilkan dalam bentuk yang lebih rapi\n",
        "numerator, denominator = sp.fraction(transfer_function)\n",
        "print(\"\\nFungsi Alih dalam bentuk pecahan:\")\n",
        "sp.pprint(Eq(Omega_s/V_s, numerator/denominator))"
      ],
      "metadata": {
        "colab": {
          "base_uri": "https://localhost:8080/"
        },
        "id": "e5y--Y-jy8pD",
        "outputId": "02f0df12-18ca-41cd-b8f7-e5541e42af61"
      },
      "execution_count": 5,
      "outputs": [
        {
          "output_type": "stream",
          "name": "stdout",
          "text": [
            "\n",
            "3. Fungsi Alih Omega(s)/V(s):\n",
            "                 Kₜ                 \n",
            "────────────────────────────────────\n",
            "                   2                \n",
            "B⋅L⋅s + B⋅R + J⋅L⋅s  + J⋅R⋅s + Kₑ⋅Kₜ\n",
            "\n",
            "Fungsi Alih dalam bentuk pecahan:\n",
            "Ωₛ                    Kₜ                 \n",
            "── = ────────────────────────────────────\n",
            "Vₛ                      2                \n",
            "     B⋅L⋅s + B⋅R + J⋅L⋅s  + J⋅R⋅s + Kₑ⋅Kₜ\n"
          ]
        }
      ]
    }
  ]
}